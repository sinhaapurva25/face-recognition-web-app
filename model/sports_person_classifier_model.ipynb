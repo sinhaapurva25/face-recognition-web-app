{
 "cells": [
  {
   "cell_type": "code",
   "execution_count": 15,
   "metadata": {},
   "outputs": [],
   "source": [
    "import numpy as np\n",
    "import cv2\n",
    "import matplotlib\n",
    "from matplotlib import pyplot as plt\n",
    "%matplotlib inline"
   ]
  },
  {
   "cell_type": "code",
   "execution_count": 16,
   "metadata": {},
   "outputs": [],
   "source": [
    "face_cascade = cv2.CascadeClassifier('opencv\\haarcascades\\haarcascade_frontalface_default.xml')\n",
    "eye_cascade = cv2.CascadeClassifier('opencv\\haarcascades\\haarcascade_eye.xml')"
   ]
  },
  {
   "cell_type": "code",
   "execution_count": 17,
   "metadata": {},
   "outputs": [],
   "source": [
    "def get_cropped_img_if_2_eyes(img_pth):\n",
    "    img = cv2.imread(img_pth)\n",
    "    gray = cv2.cvtColor(img,cv2.COLOR_BGR2GRAY)\n",
    "    faces = face_cascade.detectMultiScale(gray, 1.3, 5)\n",
    "    for (x,y,w,h) in faces:\n",
    "        roi_gray = gray[y:y+h, x:x+w]\n",
    "        roi_color = img[y:y+h, x:x+w]\n",
    "        eyes = eye_cascade.detectMultiScale(roi_gray)\n",
    "        if len(eyes) >=2:\n",
    "            return roi_color\n",
    "        else:\n",
    "            return None"
   ]
  },
  {
   "cell_type": "code",
   "execution_count": 18,
   "metadata": {},
   "outputs": [],
   "source": [
    "pathToData = r'dataset'\n",
    "pathToCroppedData = r'dataset\\cropped'"
   ]
  },
  {
   "cell_type": "code",
   "execution_count": 19,
   "metadata": {},
   "outputs": [
    {
     "data": {
      "text/plain": [
       "['dataset\\\\Akshay Kumar',\n",
       " 'dataset\\\\Alexandra Daddario',\n",
       " 'dataset\\\\Alia Bhatt',\n",
       " 'dataset\\\\Amitabh Bachchan',\n",
       " 'dataset\\\\Andy Samberg',\n",
       " 'dataset\\\\Anushka Sharma',\n",
       " 'dataset\\\\Billie Eilish',\n",
       " 'dataset\\\\Brad Pitt',\n",
       " 'dataset\\\\Camila Cabello',\n",
       " 'dataset\\\\Charlize Theron',\n",
       " 'dataset\\\\Claire Holt',\n",
       " 'dataset\\\\Courtney Cox',\n",
       " 'dataset\\\\Dwayne Johnson',\n",
       " 'dataset\\\\Elizabeth Olsen',\n",
       " 'dataset\\\\Ellen Degeneres',\n",
       " 'dataset\\\\Henry Cavill',\n",
       " 'dataset\\\\Hrithik Roshan',\n",
       " 'dataset\\\\Hugh Jackman',\n",
       " 'dataset\\\\Jessica Alba',\n",
       " 'dataset\\\\Kashyap',\n",
       " 'dataset\\\\lionel_messi',\n",
       " 'dataset\\\\Lisa Kudrow',\n",
       " 'dataset\\\\Margot Robbie',\n",
       " 'dataset\\\\maria_sharapova',\n",
       " 'dataset\\\\Marmik',\n",
       " 'dataset\\\\Natalie Portman',\n",
       " 'dataset\\\\Priyanka Chopra',\n",
       " 'dataset\\\\Robert Downey Jr',\n",
       " 'dataset\\\\Roger Federer',\n",
       " 'dataset\\\\roger_federer',\n",
       " 'dataset\\\\serena_williams',\n",
       " 'dataset\\\\Tom Cruise',\n",
       " 'dataset\\\\Vijay Deverakonda',\n",
       " 'dataset\\\\Virat Kohli',\n",
       " 'dataset\\\\virat_kohli',\n",
       " 'dataset\\\\Zac Efron']"
      ]
     },
     "execution_count": 19,
     "metadata": {},
     "output_type": "execute_result"
    }
   ],
   "source": [
    "import os\n",
    "img_dirs = []\n",
    "for entry in os.scandir(pathToData):\n",
    "    if entry.is_dir(): img_dirs.append(entry.path)\n",
    "img_dirs"
   ]
  },
  {
   "cell_type": "code",
   "execution_count": 20,
   "metadata": {},
   "outputs": [],
   "source": [
    "import shutil\n",
    "if os.path.exists(pathToCroppedData):\n",
    "    shutil.rmtree(pathToCroppedData)\n",
    "os.mkdir(pathToCroppedData)"
   ]
  },
  {
   "cell_type": "code",
   "execution_count": 21,
   "metadata": {},
   "outputs": [
    {
     "name": "stdout",
     "output_type": "stream",
     "text": [
      "Akshay Kumar\n",
      "Alexandra Daddario\n",
      "Alia Bhatt\n",
      "Amitabh Bachchan\n",
      "Andy Samberg\n",
      "Anushka Sharma\n",
      "Billie Eilish\n",
      "Brad Pitt\n",
      "Camila Cabello\n",
      "Charlize Theron\n",
      "Claire Holt\n",
      "Courtney Cox\n",
      "Dwayne Johnson\n",
      "Elizabeth Olsen\n",
      "Ellen Degeneres\n",
      "Henry Cavill\n",
      "Hrithik Roshan\n",
      "Hugh Jackman\n",
      "Jessica Alba\n",
      "Kashyap\n",
      "lionel_messi\n",
      "Lisa Kudrow\n",
      "Margot Robbie\n",
      "maria_sharapova\n",
      "Marmik\n",
      "Natalie Portman\n",
      "Priyanka Chopra\n",
      "Robert Downey Jr\n",
      "Roger Federer\n",
      "roger_federer\n",
      "serena_williams\n",
      "Tom Cruise\n",
      "Vijay Deverakonda\n",
      "Virat Kohli\n",
      "virat_kohli\n",
      "Zac Efron\n"
     ]
    }
   ],
   "source": [
    "cropped_img_dirs = []\n",
    "celebrity_file_names_dict = {}\n",
    "for img_dir in img_dirs:\n",
    "    count = 0\n",
    "    celebrity_name = img_dir.split('\\\\')[-1]\n",
    "    print(celebrity_name)\n",
    "\n",
    "    celebrity_file_names_dict[celebrity_name] = []\n",
    "\n",
    "    for entry in os.scandir(img_dir):\n",
    "        roi_color = get_cropped_img_if_2_eyes(entry.path)\n",
    "        if roi_color is not None:\n",
    "            cropped_folder = os.path.join(pathToCroppedData,celebrity_name)#pathToCroppedData + '\\\\' + celebrity_name\n",
    "            if not os.path.exists(cropped_folder):\n",
    "                cropped_img_dirs.append(cropped_folder)\n",
    "                os.makedirs(cropped_folder)\n",
    "            \n",
    "            cropped_file_name = celebrity_name + str(count) + '.png'\n",
    "            cropped_file_path = os.path.join(cropped_folder,cropped_file_name)#cropped_folder + \"\\\\\" + cropped_file_name\n",
    "\n",
    "            cv2.imwrite(cropped_file_path,roi_color)\n",
    "            celebrity_file_names_dict[celebrity_name].append(cropped_file_path)\n",
    "            count += 1"
   ]
  },
  {
   "cell_type": "code",
   "execution_count": 22,
   "metadata": {},
   "outputs": [],
   "source": [
    "import pywt\n",
    "def w2d(img, mode='haar', level=1):\n",
    "    imArray = img\n",
    "    imArray = cv2.cvtColor( imArray,cv2.COLOR_RGB2GRAY)\n",
    "    #convert to float\n",
    "    imArray =  np.float32(imArray)   \n",
    "    imArray /= 255\n",
    "    # compute coefficients \n",
    "    coeffs=pywt.wavedec2(imArray, mode, level=level)\n",
    "\n",
    "    #Process Coefficients\n",
    "    coeffs_H=list(coeffs)  \n",
    "    coeffs_H[0] *= 0\n",
    "\n",
    "    # reconstruction\n",
    "    imArray_H=pywt.waverec2(coeffs_H, mode)\n",
    "    imArray_H *= 255\n",
    "    imArray_H =  np.uint8(imArray_H)\n",
    "    return imArray_H"
   ]
  },
  {
   "cell_type": "code",
   "execution_count": 23,
   "metadata": {},
   "outputs": [
    {
     "data": {
      "text/plain": [
       "{'Akshay Kumar': -1,\n",
       " 'Alexandra Daddario': 0,\n",
       " 'Alia Bhatt': 1,\n",
       " 'Amitabh Bachchan': 2,\n",
       " 'Andy Samberg': 3,\n",
       " 'Anushka Sharma': 4,\n",
       " 'Billie Eilish': 5,\n",
       " 'Brad Pitt': 6,\n",
       " 'Camila Cabello': 7,\n",
       " 'Charlize Theron': 8,\n",
       " 'Claire Holt': 9,\n",
       " 'Courtney Cox': 10,\n",
       " 'Dwayne Johnson': 11,\n",
       " 'Elizabeth Olsen': 12,\n",
       " 'Ellen Degeneres': 13,\n",
       " 'Henry Cavill': 14,\n",
       " 'Hrithik Roshan': 15,\n",
       " 'Hugh Jackman': 16,\n",
       " 'Jessica Alba': 17,\n",
       " 'Kashyap': 18,\n",
       " 'lionel_messi': 19,\n",
       " 'Lisa Kudrow': 20,\n",
       " 'Margot Robbie': 21,\n",
       " 'maria_sharapova': 22,\n",
       " 'Marmik': 23,\n",
       " 'Natalie Portman': 24,\n",
       " 'Priyanka Chopra': 25,\n",
       " 'Robert Downey Jr': 26,\n",
       " 'Roger Federer': 27,\n",
       " 'roger_federer': 28,\n",
       " 'serena_williams': 29,\n",
       " 'Tom Cruise': 30,\n",
       " 'Vijay Deverakonda': 31,\n",
       " 'Virat Kohli': 32,\n",
       " 'virat_kohli': 33,\n",
       " 'Zac Efron': 34}"
      ]
     },
     "execution_count": 23,
     "metadata": {},
     "output_type": "execute_result"
    }
   ],
   "source": [
    "\n",
    "class_dict = dict()\n",
    "for idx, celebrity_name in enumerate(celebrity_file_names_dict.keys(),-1):\n",
    "    if celebrity_name != 'cropped':\n",
    "        class_dict[celebrity_name]=idx\n",
    "class_dict"
   ]
  },
  {
   "cell_type": "code",
   "execution_count": 24,
   "metadata": {},
   "outputs": [
    {
     "data": {
      "text/plain": [
       "(2172, 4096)"
      ]
     },
     "execution_count": 24,
     "metadata": {},
     "output_type": "execute_result"
    }
   ],
   "source": [
    "X=[]\n",
    "Y=[]\n",
    "for celebrity_name, training_file in celebrity_file_names_dict.items():\n",
    "    for training_image in training_file:\n",
    "        img = cv2.imread(training_image)\n",
    "        if img is not None:\n",
    "            scaled_raw_img = cv2.resize(img,(32,32))\n",
    "            img_har = w2d(img,'db1',5)\n",
    "            scaled_img_har = cv2.resize(img_har,(32,32))\n",
    "            combined_img = np.vstack((scaled_raw_img.reshape(32*32*3,1),scaled_img_har.reshape(32*32,1)))\n",
    "            X.append(combined_img)\n",
    "            Y.append(class_dict[celebrity_name])\n",
    "# len(X)\n",
    "# len(X[0])\n",
    "X = np.array(X).reshape(len(X),len(X[0])).astype(float)\n",
    "X.shape"
   ]
  },
  {
   "cell_type": "code",
   "execution_count": 25,
   "metadata": {},
   "outputs": [],
   "source": [
    "from sklearn.svm import SVC\n",
    "from sklearn.preprocessing import StandardScaler\n",
    "from sklearn.model_selection import train_test_split\n",
    "from sklearn.pipeline import Pipeline\n",
    "from sklearn.metrics import classification_report"
   ]
  },
  {
   "cell_type": "code",
   "execution_count": 26,
   "metadata": {},
   "outputs": [
    {
     "data": {
      "text/plain": [
       "0.5432780847145487"
      ]
     },
     "execution_count": 26,
     "metadata": {},
     "output_type": "execute_result"
    }
   ],
   "source": [
    "X_train, X_test, Y_train, Y_test = train_test_split(X,Y,random_state=0)\n",
    "pipe = Pipeline([('scaler',StandardScaler()),('svc',SVC(kernel='rbf',C=10))])\n",
    "pipe.fit(X_train,Y_train)\n",
    "pipe.score(X_test,Y_test)"
   ]
  },
  {
   "cell_type": "code",
   "execution_count": 27,
   "metadata": {},
   "outputs": [
    {
     "name": "stdout",
     "output_type": "stream",
     "text": [
      "              precision    recall  f1-score   support\n",
      "\n",
      "          -1       0.33      0.07      0.11        15\n",
      "           0       0.60      0.88      0.71        17\n",
      "           1       0.30      0.35      0.32        17\n",
      "           2       0.00      0.00      0.00         5\n",
      "           3       0.56      0.64      0.60        22\n",
      "           4       0.67      0.29      0.40        14\n",
      "           5       0.57      0.36      0.44        11\n",
      "           6       0.55      0.79      0.65        28\n",
      "           7       0.62      0.53      0.57        15\n",
      "           8       0.47      0.35      0.40        20\n",
      "           9       0.39      0.60      0.47        20\n",
      "          10       0.56      0.53      0.54        19\n",
      "          11       0.43      0.38      0.40         8\n",
      "          12       0.40      0.44      0.42         9\n",
      "          13       0.56      0.64      0.60        22\n",
      "          14       0.59      0.68      0.63        28\n",
      "          15       0.62      0.56      0.59        18\n",
      "          16       0.57      0.72      0.63        18\n",
      "          17       0.53      0.69      0.60        26\n",
      "          18       0.50      0.50      0.50         4\n",
      "          19       1.00      0.11      0.20         9\n",
      "          20       0.67      0.67      0.67        12\n",
      "          21       0.47      0.39      0.42        18\n",
      "          22       1.00      0.14      0.25        14\n",
      "          23       0.00      0.00      0.00         4\n",
      "          24       0.68      0.70      0.69        27\n",
      "          25       0.52      0.59      0.55        22\n",
      "          26       0.44      0.55      0.49        20\n",
      "          27       0.00      0.00      0.00         5\n",
      "          28       0.50      0.14      0.22         7\n",
      "          29       0.40      0.67      0.50         6\n",
      "          30       0.75      0.43      0.55         7\n",
      "          31       0.72      0.78      0.75        23\n",
      "          32       0.60      0.75      0.67         4\n",
      "          33       0.67      0.55      0.60        11\n",
      "          34       0.54      0.72      0.62        18\n",
      "\n",
      "    accuracy                           0.54       543\n",
      "   macro avg       0.52      0.48      0.47       543\n",
      "weighted avg       0.55      0.54      0.52       543\n",
      "\n"
     ]
    },
    {
     "name": "stderr",
     "output_type": "stream",
     "text": [
      "C:\\Users\\sinha\\AppData\\Local\\Packages\\PythonSoftwareFoundation.Python.3.10_qbz5n2kfra8p0\\LocalCache\\local-packages\\Python310\\site-packages\\sklearn\\metrics\\_classification.py:1318: UndefinedMetricWarning: Precision and F-score are ill-defined and being set to 0.0 in labels with no predicted samples. Use `zero_division` parameter to control this behavior.\n",
      "  _warn_prf(average, modifier, msg_start, len(result))\n",
      "C:\\Users\\sinha\\AppData\\Local\\Packages\\PythonSoftwareFoundation.Python.3.10_qbz5n2kfra8p0\\LocalCache\\local-packages\\Python310\\site-packages\\sklearn\\metrics\\_classification.py:1318: UndefinedMetricWarning: Precision and F-score are ill-defined and being set to 0.0 in labels with no predicted samples. Use `zero_division` parameter to control this behavior.\n",
      "  _warn_prf(average, modifier, msg_start, len(result))\n",
      "C:\\Users\\sinha\\AppData\\Local\\Packages\\PythonSoftwareFoundation.Python.3.10_qbz5n2kfra8p0\\LocalCache\\local-packages\\Python310\\site-packages\\sklearn\\metrics\\_classification.py:1318: UndefinedMetricWarning: Precision and F-score are ill-defined and being set to 0.0 in labels with no predicted samples. Use `zero_division` parameter to control this behavior.\n",
      "  _warn_prf(average, modifier, msg_start, len(result))\n"
     ]
    }
   ],
   "source": [
    "len(X_test)\n",
    "print(classification_report(Y_test,pipe.predict(X_test)))"
   ]
  },
  {
   "cell_type": "code",
   "execution_count": 28,
   "metadata": {},
   "outputs": [],
   "source": [
    "from sklearn import svm\n",
    "from sklearn.ensemble import RandomForestClassifier\n",
    "from sklearn.linear_model import LogisticRegression\n",
    "from sklearn.pipeline import make_pipeline\n",
    "from sklearn.model_selection import GridSearchCV"
   ]
  },
  {
   "cell_type": "code",
   "execution_count": 29,
   "metadata": {},
   "outputs": [],
   "source": [
    "model_params = {\n",
    "    'svm': {\n",
    "        'model': svm.SVC(gamma='auto',probability=True),\n",
    "        'params' : {\n",
    "            'svc__C': [1,10,100,1000],\n",
    "            'svc__kernel': ['rbf','linear']\n",
    "        }  \n",
    "    },\n",
    "    'random_forest': {\n",
    "        'model': RandomForestClassifier(),\n",
    "        'params' : {\n",
    "            'randomforestclassifier__n_estimators': [1,5,10]\n",
    "        }\n",
    "    },\n",
    "    'logistic_regression' : {\n",
    "        'model': LogisticRegression(solver='liblinear',multi_class='auto'),\n",
    "        'params': {\n",
    "            'logisticregression__C': [1,5,10]\n",
    "        }\n",
    "    }\n",
    "}"
   ]
  },
  {
   "cell_type": "code",
   "execution_count": 30,
   "metadata": {},
   "outputs": [
    {
     "data": {
      "text/html": [
       "<div>\n",
       "<style scoped>\n",
       "    .dataframe tbody tr th:only-of-type {\n",
       "        vertical-align: middle;\n",
       "    }\n",
       "\n",
       "    .dataframe tbody tr th {\n",
       "        vertical-align: top;\n",
       "    }\n",
       "\n",
       "    .dataframe thead th {\n",
       "        text-align: right;\n",
       "    }\n",
       "</style>\n",
       "<table border=\"1\" class=\"dataframe\">\n",
       "  <thead>\n",
       "    <tr style=\"text-align: right;\">\n",
       "      <th></th>\n",
       "      <th>model</th>\n",
       "      <th>best_score</th>\n",
       "      <th>best_params</th>\n",
       "    </tr>\n",
       "  </thead>\n",
       "  <tbody>\n",
       "    <tr>\n",
       "      <th>0</th>\n",
       "      <td>svm</td>\n",
       "      <td>0.566622</td>\n",
       "      <td>{'svc__C': 1, 'svc__kernel': 'linear'}</td>\n",
       "    </tr>\n",
       "    <tr>\n",
       "      <th>1</th>\n",
       "      <td>random_forest</td>\n",
       "      <td>0.226535</td>\n",
       "      <td>{'randomforestclassifier__n_estimators': 10}</td>\n",
       "    </tr>\n",
       "    <tr>\n",
       "      <th>2</th>\n",
       "      <td>logistic_regression</td>\n",
       "      <td>0.476999</td>\n",
       "      <td>{'logisticregression__C': 1}</td>\n",
       "    </tr>\n",
       "  </tbody>\n",
       "</table>\n",
       "</div>"
      ],
      "text/plain": [
       "                 model  best_score  \\\n",
       "0                  svm    0.566622   \n",
       "1        random_forest    0.226535   \n",
       "2  logistic_regression    0.476999   \n",
       "\n",
       "                                    best_params  \n",
       "0        {'svc__C': 1, 'svc__kernel': 'linear'}  \n",
       "1  {'randomforestclassifier__n_estimators': 10}  \n",
       "2                  {'logisticregression__C': 1}  "
      ]
     },
     "execution_count": 30,
     "metadata": {},
     "output_type": "execute_result"
    }
   ],
   "source": [
    "scores = []\n",
    "best_estimators = {}\n",
    "import pandas as pd\n",
    "for algo, mp in model_params.items():\n",
    "    pipe = make_pipeline(StandardScaler(), mp['model'])\n",
    "    clf =  GridSearchCV(pipe, mp['params'], cv=5, return_train_score=False)\n",
    "    clf.fit(X_train, Y_train)\n",
    "    scores.append({\n",
    "        'model': algo,\n",
    "        'best_score': clf.best_score_,\n",
    "        'best_params': clf.best_params_\n",
    "    })\n",
    "    best_estimators[algo] = clf.best_estimator_\n",
    "    \n",
    "df = pd.DataFrame(scores,columns=['model','best_score','best_params'])\n",
    "df"
   ]
  },
  {
   "cell_type": "code",
   "execution_count": 31,
   "metadata": {},
   "outputs": [
    {
     "data": {
      "text/plain": [
       "0.5966850828729282"
      ]
     },
     "execution_count": 31,
     "metadata": {},
     "output_type": "execute_result"
    }
   ],
   "source": [
    "best_estimators['svm'].score(X_test,Y_test)"
   ]
  },
  {
   "cell_type": "code",
   "execution_count": 32,
   "metadata": {},
   "outputs": [
    {
     "data": {
      "text/plain": [
       "0.24677716390423574"
      ]
     },
     "execution_count": 32,
     "metadata": {},
     "output_type": "execute_result"
    }
   ],
   "source": [
    "best_estimators['random_forest'].score(X_test,Y_test)"
   ]
  },
  {
   "cell_type": "code",
   "execution_count": 33,
   "metadata": {},
   "outputs": [
    {
     "data": {
      "text/plain": [
       "0.4972375690607735"
      ]
     },
     "execution_count": 33,
     "metadata": {},
     "output_type": "execute_result"
    }
   ],
   "source": [
    "best_estimators['logistic_regression'].score(X_test,Y_test)"
   ]
  },
  {
   "cell_type": "code",
   "execution_count": 34,
   "metadata": {},
   "outputs": [],
   "source": [
    "best_clf = best_estimators['logistic_regression']"
   ]
  },
  {
   "cell_type": "code",
   "execution_count": 35,
   "metadata": {},
   "outputs": [
    {
     "data": {
      "text/plain": [
       "array([[ 2,  0,  1, ...,  0,  0,  2],\n",
       "       [ 0, 11,  0, ...,  0,  0,  0],\n",
       "       [ 0,  0,  6, ...,  0,  0,  0],\n",
       "       ...,\n",
       "       [ 0,  0,  0, ...,  2,  1,  0],\n",
       "       [ 0,  0,  0, ...,  3,  6,  0],\n",
       "       [ 0,  1,  0, ...,  1,  0, 12]], dtype=int64)"
      ]
     },
     "execution_count": 35,
     "metadata": {},
     "output_type": "execute_result"
    }
   ],
   "source": [
    "from sklearn.metrics import confusion_matrix\n",
    "cm = confusion_matrix(Y_test,best_clf.predict(X_test))\n",
    "cm"
   ]
  },
  {
   "cell_type": "code",
   "execution_count": 36,
   "metadata": {},
   "outputs": [
    {
     "data": {
      "text/plain": [
       "Text(69.0, 0.5, 'Truth')"
      ]
     },
     "execution_count": 36,
     "metadata": {},
     "output_type": "execute_result"
    },
    {
     "data": {
      "image/png": "[encoded data removed]",
      "text/plain": [
       "<Figure size 720x504 with 2 Axes>"
      ]
     },
     "metadata": {
      "needs_background": "light"
     },
     "output_type": "display_data"
    }
   ],
   "source": [
    "import seaborn as sn\n",
    "plt.figure(figsize=(10,7))\n",
    "sn.heatmap(cm,annot=True)\n",
    "plt.xlabel('Predicted')\n",
    "plt.ylabel('Truth')"
   ]
  },
  {
   "cell_type": "code",
   "execution_count": 37,
   "metadata": {},
   "outputs": [
    {
     "data": {
      "text/plain": [
       "{'Akshay Kumar': -1,\n",
       " 'Alexandra Daddario': 0,\n",
       " 'Alia Bhatt': 1,\n",
       " 'Amitabh Bachchan': 2,\n",
       " 'Andy Samberg': 3,\n",
       " 'Anushka Sharma': 4,\n",
       " 'Billie Eilish': 5,\n",
       " 'Brad Pitt': 6,\n",
       " 'Camila Cabello': 7,\n",
       " 'Charlize Theron': 8,\n",
       " 'Claire Holt': 9,\n",
       " 'Courtney Cox': 10,\n",
       " 'Dwayne Johnson': 11,\n",
       " 'Elizabeth Olsen': 12,\n",
       " 'Ellen Degeneres': 13,\n",
       " 'Henry Cavill': 14,\n",
       " 'Hrithik Roshan': 15,\n",
       " 'Hugh Jackman': 16,\n",
       " 'Jessica Alba': 17,\n",
       " 'Kashyap': 18,\n",
       " 'lionel_messi': 19,\n",
       " 'Lisa Kudrow': 20,\n",
       " 'Margot Robbie': 21,\n",
       " 'maria_sharapova': 22,\n",
       " 'Marmik': 23,\n",
       " 'Natalie Portman': 24,\n",
       " 'Priyanka Chopra': 25,\n",
       " 'Robert Downey Jr': 26,\n",
       " 'Roger Federer': 27,\n",
       " 'roger_federer': 28,\n",
       " 'serena_williams': 29,\n",
       " 'Tom Cruise': 30,\n",
       " 'Vijay Deverakonda': 31,\n",
       " 'Virat Kohli': 32,\n",
       " 'virat_kohli': 33,\n",
       " 'Zac Efron': 34}"
      ]
     },
     "execution_count": 37,
     "metadata": {},
     "output_type": "execute_result"
    }
   ],
   "source": [
    "class_dict"
   ]
  },
  {
   "cell_type": "code",
   "execution_count": 38,
   "metadata": {},
   "outputs": [
    {
     "name": "stdout",
     "output_type": "stream",
     "text": [
      "Requirement already satisfied: joblib in c:\\users\\sinha\\appdata\\local\\packages\\pythonsoftwarefoundation.python.3.10_qbz5n2kfra8p0\\localcache\\local-packages\\python310\\site-packages (1.1.0)\n"
     ]
    },
    {
     "data": {
      "text/plain": [
       "['saved_model.pkl']"
      ]
     },
     "execution_count": 38,
     "metadata": {},
     "output_type": "execute_result"
    }
   ],
   "source": [
    "!pip install joblib\n",
    "import joblib\n",
    "joblib.dump(best_clf,'saved_model.pkl')"
   ]
  },
  {
   "cell_type": "code",
   "execution_count": 39,
   "metadata": {},
   "outputs": [],
   "source": [
    "import json\n",
    "with open(\"class_dictionary.json\",\"w\") as f:\n",
    "    f.write(json.dumps(class_dict))"
   ]
  }
 ],
 "metadata": {
  "interpreter": {
   "hash": "5222c4e008e5c97820c744bc2c3e93901dd6a90c64c4278e97891670f4fdd620"
  },
  "kernelspec": {
   "display_name": "Python 3.10.0 64-bit",
   "language": "python",
   "name": "python3"
  },
  "language_info": {
   "codemirror_mode": {
    "name": "ipython",
    "version": 3
   },
   "file_extension": ".py",
   "mimetype": "text/x-python",
   "name": "python",
   "nbconvert_exporter": "python",
   "pygments_lexer": "ipython3",
   "version": "3.10.2"
  },
  "orig_nbformat": 4
 },
 "nbformat": 4,
 "nbformat_minor": 2
}
